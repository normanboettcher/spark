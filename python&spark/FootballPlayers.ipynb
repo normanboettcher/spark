{
 "cells": [
  {
   "cell_type": "code",
   "execution_count": 1,
   "id": "06aced2c",
   "metadata": {},
   "outputs": [],
   "source": [
    "from hdfs import InsecureClient"
   ]
  },
  {
   "cell_type": "code",
   "execution_count": 8,
   "id": "b252678c",
   "metadata": {},
   "outputs": [],
   "source": [
    "from pyspark.sql import SparkSession"
   ]
  },
  {
   "cell_type": "code",
   "execution_count": 9,
   "id": "af565203-6139-48c3-a710-5486fbdf89b5",
   "metadata": {},
   "outputs": [],
   "source": [
    "hdfsclient = InsecureClient('http://master:9000', user='norman')"
   ]
  },
  {
   "cell_type": "code",
   "execution_count": 10,
   "id": "eef4b0e6-70c6-4086-b61e-a6d7f4663ed4",
   "metadata": {},
   "outputs": [],
   "source": [
    "session = SparkSession.builder.appName('Football').master('local').getOrCreate()"
   ]
  },
  {
   "cell_type": "code",
   "execution_count": 11,
   "id": "30b57124-31a6-4fbe-b626-dc237e0d3136",
   "metadata": {},
   "outputs": [
    {
     "name": "stdout",
     "output_type": "stream",
     "text": [
      "/home/norman/Schreibtisch/Spark/python&spark\n"
     ]
    }
   ],
   "source": [
    "!pwd"
   ]
  },
  {
   "cell_type": "code",
   "execution_count": 12,
   "id": "7857a36a-76a4-4711-8998-ea8148872de4",
   "metadata": {},
   "outputs": [
    {
     "data": {
      "text/html": [
       "\n",
       "            <div>\n",
       "                <p><b>SparkSession - in-memory</b></p>\n",
       "                \n",
       "        <div>\n",
       "            <p><b>SparkContext</b></p>\n",
       "\n",
       "            <p><a href=\"http://master:4040\">Spark UI</a></p>\n",
       "\n",
       "            <dl>\n",
       "              <dt>Version</dt>\n",
       "                <dd><code>v3.2.1</code></dd>\n",
       "              <dt>Master</dt>\n",
       "                <dd><code>local</code></dd>\n",
       "              <dt>AppName</dt>\n",
       "                <dd><code>Football</code></dd>\n",
       "            </dl>\n",
       "        </div>\n",
       "        \n",
       "            </div>\n",
       "        "
      ],
      "text/plain": [
       "<pyspark.sql.session.SparkSession at 0x7f60069b7910>"
      ]
     },
     "execution_count": 12,
     "metadata": {},
     "output_type": "execute_result"
    }
   ],
   "source": [
    "session"
   ]
  },
  {
   "cell_type": "code",
   "execution_count": 15,
   "id": "aba777cb-09c0-45b5-b471-b39e7e91614d",
   "metadata": {},
   "outputs": [],
   "source": [
    "players = session.read.load('hdfs://master:9000/data/football/player.csv', format='csv', sep=',', inferSchema=\"true\", header=\"true\")"
   ]
  },
  {
   "cell_type": "code",
   "execution_count": 18,
   "id": "b54620ce-6402-4f12-b710-3b470b15c6f1",
   "metadata": {},
   "outputs": [
    {
     "name": "stdout",
     "output_type": "stream",
     "text": [
      "root\n",
      " |-- id: integer (nullable = true)\n",
      " |-- player_api_id: integer (nullable = true)\n",
      " |-- player_name: string (nullable = true)\n",
      " |-- player_fifa_api_id: integer (nullable = true)\n",
      " |-- birthday: string (nullable = true)\n",
      " |-- height: double (nullable = true)\n",
      " |-- weight: integer (nullable = true)\n",
      "\n"
     ]
    }
   ],
   "source": [
    "players.printSchema()"
   ]
  },
  {
   "cell_type": "code",
   "execution_count": 19,
   "id": "28b43f33-0570-479e-bfd4-66112d5c6236",
   "metadata": {},
   "outputs": [
    {
     "name": "stdout",
     "output_type": "stream",
     "text": [
      "+---+-------------+--------------------+------------------+-------------------+------+------+\n",
      "| id|player_api_id|         player_name|player_fifa_api_id|           birthday|height|weight|\n",
      "+---+-------------+--------------------+------------------+-------------------+------+------+\n",
      "|  1|       505942|  Aaron Appindangoye|            218353|1992-02-29 00:00:00|182.88|   187|\n",
      "|  2|       155782|     Aaron Cresswell|            189615|1989-12-15 00:00:00|170.18|   146|\n",
      "|  3|       162549|         Aaron Doran|            186170|1991-05-13 00:00:00|170.18|   163|\n",
      "|  4|        30572|       Aaron Galindo|            140161|1982-05-08 00:00:00|182.88|   198|\n",
      "|  5|        23780|        Aaron Hughes|             17725|1979-11-08 00:00:00|182.88|   154|\n",
      "|  6|        27316|          Aaron Hunt|            158138|1986-09-04 00:00:00|182.88|   161|\n",
      "|  7|       564793|          Aaron Kuhl|            221280|1996-01-30 00:00:00|172.72|   146|\n",
      "|  8|        30895|        Aaron Lennon|            152747|1987-04-16 00:00:00| 165.1|   139|\n",
      "|  9|       528212|        Aaron Lennox|            206592|1993-02-19 00:00:00| 190.5|   181|\n",
      "| 10|       101042|       Aaron Meijers|            188621|1987-10-28 00:00:00|175.26|   170|\n",
      "| 11|        23889|       Aaron Mokoena|             47189|1980-11-25 00:00:00|182.88|   181|\n",
      "| 12|       231592|          Aaron Mooy|            194958|1990-09-15 00:00:00|175.26|   150|\n",
      "| 13|       163222|      Aaron Muirhead|            213568|1990-08-30 00:00:00|187.96|   168|\n",
      "| 14|        40719|        Aaron Niguez|            183853|1989-04-26 00:00:00|170.18|   143|\n",
      "| 15|        75489|        Aaron Ramsey|            186561|1990-12-26 00:00:00| 177.8|   154|\n",
      "| 16|       597948|       Aaron Splaine|            226014|1996-10-13 00:00:00|172.72|   163|\n",
      "| 17|       161644|Aaron Taylor-Sinc...|            213569|1991-04-08 00:00:00|182.88|   176|\n",
      "| 18|        23499|     Aaron Wilbraham|              2335|1979-10-21 00:00:00| 190.5|   159|\n",
      "| 19|       120919|   Aatif Chahechouhe|            187939|1986-07-02 00:00:00|175.26|   150|\n",
      "| 20|        46447|           Abasse Ba|            156626|1976-07-12 00:00:00|187.96|   185|\n",
      "+---+-------------+--------------------+------------------+-------------------+------+------+\n",
      "only showing top 20 rows\n",
      "\n"
     ]
    }
   ],
   "source": [
    "players.show()"
   ]
  },
  {
   "cell_type": "code",
   "execution_count": 38,
   "id": "356fd3c6-2135-4ce2-883a-8d1df2f5ea16",
   "metadata": {},
   "outputs": [],
   "source": [
    "player_attributes = session.read.load('hdfs://master:9000/user/norman/data/football/player_attributes.csv', format='csv', sep=',', inferSchema=\"true\", header=\"true\")"
   ]
  },
  {
   "cell_type": "code",
   "execution_count": null,
   "id": "2f073d66-8a54-416a-8b12-f53eda8c672d",
   "metadata": {},
   "outputs": [],
   "source": []
  },
  {
   "cell_type": "code",
   "execution_count": 39,
   "id": "0ff35697-901f-4818-b551-358c3b2a9078",
   "metadata": {},
   "outputs": [],
   "source": [
    "player_attributes_grouped = player_attributes.groupby('player_fifa_api_id').avg('overall_rating')"
   ]
  },
  {
   "cell_type": "code",
   "execution_count": 42,
   "id": "696bfda6-0e3c-49a6-ad07-4159f0952faf",
   "metadata": {},
   "outputs": [
    {
     "name": "stdout",
     "output_type": "stream",
     "text": [
      "+------------------+-------------------+\n",
      "|player_fifa_api_id|avg(overall_rating)|\n",
      "+------------------+-------------------+\n",
      "|            197890|   72.3157894736842|\n",
      "|              1088|  82.15789473684211|\n",
      "|            189488|               71.3|\n",
      "|            151871|  62.45454545454545|\n",
      "|            213021|            63.8125|\n",
      "|            205541|               62.0|\n",
      "|            186519|  71.03846153846153|\n",
      "|            218175|              63.25|\n",
      "|            135423|  74.04761904761905|\n",
      "|            195541|               64.5|\n",
      "|            184976|               70.4|\n",
      "|            219514|  71.88461538461539|\n",
      "|              7754|               74.5|\n",
      "|               496|               64.4|\n",
      "|            204908|  64.58333333333333|\n",
      "|             12940|  72.82352941176471|\n",
      "|            197953| 60.578947368421055|\n",
      "|            190174| 60.333333333333336|\n",
      "|            192988|               71.0|\n",
      "|              1238|             81.525|\n",
      "+------------------+-------------------+\n",
      "only showing top 20 rows\n",
      "\n",
      "11062\n"
     ]
    }
   ],
   "source": [
    "player_attributes_grouped.show()\n",
    "print(player_attributes_grouped.count())"
   ]
  },
  {
   "cell_type": "code",
   "execution_count": 78,
   "id": "cea74cfb-e996-4447-a5e8-f915f51984c3",
   "metadata": {},
   "outputs": [
    {
     "name": "stdout",
     "output_type": "stream",
     "text": [
      "183978 43\n"
     ]
    }
   ],
   "source": [
    "players_joined = player_attributes.join(player_attributes_grouped, on = 'player_fifa_api_id', how='inner')\n",
    "print(players_joined.count(), len(players_joined.columns))"
   ]
  },
  {
   "cell_type": "code",
   "execution_count": 111,
   "id": "31ff49bd-cda4-4aed-990f-17d08a3e6031",
   "metadata": {},
   "outputs": [
    {
     "name": "stdout",
     "output_type": "stream",
     "text": [
      "11062 43\n"
     ]
    }
   ],
   "source": [
    "players_joined = players_joined.dropDuplicates(['player_Fifa_api_id', 'avg(overall_rating)'])\n",
    "print(players_joined.count(), len(players_joined.columns))#"
   ]
  },
  {
   "cell_type": "code",
   "execution_count": 112,
   "id": "f3b54209-a1dc-4eb0-a336-9db2bb3a50b4",
   "metadata": {},
   "outputs": [],
   "source": [
    "players = players_joined.drop('player_api_id', 'id', 'date')"
   ]
  },
  {
   "cell_type": "code",
   "execution_count": 113,
   "id": "0654a1d1-a5d3-4d3f-885b-56064f6ff46b",
   "metadata": {},
   "outputs": [],
   "source": [
    "players = players.drop('overall_rating')"
   ]
  },
  {
   "cell_type": "code",
   "execution_count": 114,
   "id": "99f85d99-807b-4da8-957c-b06c5ea3216e",
   "metadata": {},
   "outputs": [
    {
     "name": "stdout",
     "output_type": "stream",
     "text": [
      "root\n",
      " |-- player_fifa_api_id: integer (nullable = true)\n",
      " |-- potential: integer (nullable = true)\n",
      " |-- preferred_foot: string (nullable = true)\n",
      " |-- attacking_work_rate: string (nullable = true)\n",
      " |-- defensive_work_rate: string (nullable = true)\n",
      " |-- crossing: integer (nullable = true)\n",
      " |-- finishing: integer (nullable = true)\n",
      " |-- heading_accuracy: integer (nullable = true)\n",
      " |-- short_passing: integer (nullable = true)\n",
      " |-- volleys: integer (nullable = true)\n",
      " |-- dribbling: integer (nullable = true)\n",
      " |-- curve: integer (nullable = true)\n",
      " |-- free_kick_accuracy: integer (nullable = true)\n",
      " |-- long_passing: integer (nullable = true)\n",
      " |-- ball_control: integer (nullable = true)\n",
      " |-- acceleration: integer (nullable = true)\n",
      " |-- sprint_speed: integer (nullable = true)\n",
      " |-- agility: integer (nullable = true)\n",
      " |-- reactions: integer (nullable = true)\n",
      " |-- balance: integer (nullable = true)\n",
      " |-- shot_power: integer (nullable = true)\n",
      " |-- jumping: integer (nullable = true)\n",
      " |-- stamina: integer (nullable = true)\n",
      " |-- strength: integer (nullable = true)\n",
      " |-- long_shots: integer (nullable = true)\n",
      " |-- aggression: integer (nullable = true)\n",
      " |-- interceptions: integer (nullable = true)\n",
      " |-- positioning: integer (nullable = true)\n",
      " |-- vision: integer (nullable = true)\n",
      " |-- penalties: integer (nullable = true)\n",
      " |-- marking: integer (nullable = true)\n",
      " |-- standing_tackle: integer (nullable = true)\n",
      " |-- sliding_tackle: integer (nullable = true)\n",
      " |-- gk_diving: integer (nullable = true)\n",
      " |-- gk_handling: integer (nullable = true)\n",
      " |-- gk_kicking: integer (nullable = true)\n",
      " |-- gk_positioning: integer (nullable = true)\n",
      " |-- gk_reflexes: integer (nullable = true)\n",
      " |-- avg(overall_rating): double (nullable = true)\n",
      "\n"
     ]
    }
   ],
   "source": [
    "players.printSchema()"
   ]
  },
  {
   "cell_type": "code",
   "execution_count": 122,
   "id": "3cfc6445-e379-4722-af81-da3ea3178b58",
   "metadata": {},
   "outputs": [],
   "source": [
    "def attacking_and_defensive_score(label):\n",
    "    if label == 'low': return 1\n",
    "    if label == 'medium' : return 2\n",
    "    if label == 'high': return 3\n",
    "    if not label :return 0\n",
    "    \n",
    "def foot(foot):\n",
    "    if foot == 'right': return 1\n",
    "    if foot == 'left' : return 0"
   ]
  },
  {
   "cell_type": "code",
   "execution_count": 117,
   "id": "ab4384b0-ff3c-4187-a8ec-e7a8473838c7",
   "metadata": {},
   "outputs": [],
   "source": [
    "from pyspark.sql.types import IntegerType\n",
    "from pyspark.sql.functions import udf\n",
    "udfsore = udf(attacking_and_defensive_score, IntegerType())"
   ]
  },
  {
   "cell_type": "code",
   "execution_count": 118,
   "id": "069b1824-6c29-4e4e-9604-53b0d463d29c",
   "metadata": {},
   "outputs": [],
   "source": [
    "players = players.withColumn('attack_index', udfsore('attacking_work_rate'))"
   ]
  },
  {
   "cell_type": "code",
   "execution_count": 120,
   "id": "42667f99-a612-4943-80a2-a1cfb3942c96",
   "metadata": {},
   "outputs": [],
   "source": [
    "players = players.withColumn('defensive_index', udfsore('defensive_work_rate'))"
   ]
  },
  {
   "cell_type": "code",
   "execution_count": 123,
   "id": "f89af0b6-e9ac-41c9-a53a-10721cc7da58",
   "metadata": {},
   "outputs": [],
   "source": [
    "udfFoot = udf(foot, IntegerType())"
   ]
  },
  {
   "cell_type": "code",
   "execution_count": 124,
   "id": "850d1f9a-b4a3-4c2c-974f-87a7b5e941cf",
   "metadata": {},
   "outputs": [],
   "source": [
    "players = players.withColumn('foot_index', udfFoot('preferred_foot'))"
   ]
  },
  {
   "cell_type": "code",
   "execution_count": 125,
   "id": "f674b7db-ff07-4366-80c8-3b5509884400",
   "metadata": {},
   "outputs": [
    {
     "name": "stdout",
     "output_type": "stream",
     "text": [
      "+------------------+---------+--------------+-------------------+-------------------+--------+---------+----------------+-------------+-------+---------+-----+------------------+------------+------------+------------+------------+-------+---------+-------+----------+-------+-------+--------+----------+----------+-------------+-----------+------+---------+-------+---------------+--------------+---------+-----------+----------+--------------+-----------+-------------------+------------+---------------+----------+\n",
      "|player_fifa_api_id|potential|preferred_foot|attacking_work_rate|defensive_work_rate|crossing|finishing|heading_accuracy|short_passing|volleys|dribbling|curve|free_kick_accuracy|long_passing|ball_control|acceleration|sprint_speed|agility|reactions|balance|shot_power|jumping|stamina|strength|long_shots|aggression|interceptions|positioning|vision|penalties|marking|standing_tackle|sliding_tackle|gk_diving|gk_handling|gk_kicking|gk_positioning|gk_reflexes|avg(overall_rating)|attack_index|defensive_index|foot_index|\n",
      "+------------------+---------+--------------+-------------------+-------------------+--------+---------+----------------+-------------+-------+---------+-----+------------------+------------+------------+------------+------------+-------+---------+-------+----------+-------+-------+--------+----------+----------+-------------+-----------+------+---------+-------+---------------+--------------+---------+-----------+----------+--------------+-----------+-------------------+------------+---------------+----------+\n",
      "|                 2|       69|          left|             medium|               high|      75|       50|              59|           71|     58|       73|   65|                60|          69|          71|          68|          74|     68|       69|     68|        74|     68|     69|      68|        68|        72|           69|         63|    66|       50|     70|             69|            69|       14|          5|        15|            10|         12|               70.6|           2|              3|         0|\n",
      "|                 6|       70|         right|             medium|             medium|      12|       12|              15|           25|     14|       13|   11|                14|          24|          11|          55|          55|     48|       70|     43|        36|     72|     50|      69|        11|        40|           20|         13|    42|       14|     16|              9|            17|       69|         70|        66|            73|         70|             72.125|           2|              2|         1|\n",
      "|                11|       63|         right|             medium|               high|      59|       49|              54|           68|     55|       60|   62|                44|          64|          68|          51|          52|     65|       63|     58|        67|     64|     53|      67|        66|        57|           58|         58|    66|       60|     42|             54|            52|        6|          7|        10|             7|         12|   67.3529411764706|           2|              3|         1|\n",
      "|                16|       70|         right|             medium|                low|      71|       65|              61|           69|     67|       72|   76|                66|          57|          78|          69|          72|     74|       71|     72|        71|     68|     70|      71|        68|        67|           32|         72|    62|       75|     26|             35|            21|        8|         11|        12|            10|         10|             74.125|           2|              1|         1|\n",
      "|                27|       71|         right|             medium|                low|      80|       64|              41|           77|     75|       79|   84|                77|          69|          78|          48|          42|     71|       59|     75|        72|     58|     29|      56|        69|        69|           39|         69|    74|       66|     35|             34|            30|        9|          6|        13|            16|          7|               76.5|           2|              1|         1|\n",
      "|                28|       73|          left|             medium|             medium|      25|       13|              14|           22|     24|       13|   24|                14|          23|          15|          41|          49|     55|       67|     60|        25|     67|     32|      60|        22|        37|           26|         15|    31|       18|     11|             13|            14|       75|         74|        68|            72|         73|              70.05|           2|              2|         0|\n",
      "|                41|       88|         right|               high|             medium|      79|       73|              54|           92|     74|       90|   80|                70|          86|          92|          76|          75|     83|       88|     87|        65|     54|     64|      59|        74|        58|           68|         85|    92|       71|     57|             57|            56|        6|         13|         6|            13|          7|              88.32|           3|              2|         1|\n",
      "|                58|       68|         right|             medium|             medium|      65|       22|              67|           64|     55|       68|   52|                42|          66|          67|          55|          61|     44|       64|     56|        72|     62|     63|      85|        48|        76|           69|         56|    61|       55|     68|             73|            68|        7|         13|        16|             8|          7|  71.21739130434783|           2|              2|         1|\n",
      "|                61|       70|         right|             medium|             medium|      61|       53|              42|           58|     57|       67|   61|                42|          44|          62|          90|          91|     75|       65|     85|        71|     70|     64|      61|        49|        63|           26|         63|    58|       46|     22|             26|            31|        8|         13|         7|             9|          9|               68.5|           2|              2|         1|\n",
      "|                80|       74|          left|             medium|             medium|      78|       68|              43|           80|     69|       75|   81|                80|          80|          77|          64|          63|     66|       73|     84|        79|     72|     51|      64|        77|        87|           68|         67|    77|       85|     64|             66|            65|        7|         11|         7|            14|          8|   77.6923076923077|           2|              2|         0|\n",
      "|               158|       69|          left|             medium|             medium|      71|       33|              65|           64|     42|       60|   51|                55|          59|          71|          67|          69|     61|       70|     65|        48|     64|     75|      71|        32|        66|           62|         42|    54|       46|     71|             72|            73|       12|          6|         6|            12|          6|               71.8|           2|              2|         0|\n",
      "|               164|       73|         right|             medium|               high|      71|       59|              68|           77|     68|       66|   58|                54|          77|          71|          66|          66|     66|       69|     62|        77|     68|     68|      68|        73|        77|           77|         67|    77|       67|     65|             73|            69|        5|         15|         7|             6|         13|  74.41935483870968|           2|              3|         1|\n",
      "|               185|       65|         right|             medium|             medium|      16|       12|              15|           26|     14|       13|   12|                13|          24|          22|          46|          45|     45|       64|     43|        23|     74|     52|      75|        14|        70|           28|         11|    34|       14|     11|             11|            12|       65|         63|        71|            70|         61|  74.36363636363636|           2|              2|         1|\n",
      "|               195|       84|          left|               None|                  o|      35|       81|              61|           65|     72|       56|   63|                69|          44|          69|          55|          51|     42|       56|     48|        64|     50|     53|      52|        61|        49|           46|         74|    71|       80|     37|             18|            12|        5|         12|         6|             7|          9|               68.5|        null|           null|         0|\n",
      "|               201|       68|         right|               high|             medium|      71|       58|              48|           78|     67|       69|   81|                76|          76|          75|          47|          41|     56|       70|     68|        71|     46|     40|      63|        70|        50|           51|         64|    76|       66|     42|             46|            39|       10|          9|         5|             8|         13|               71.0|           3|              2|         1|\n",
      "|               241|       78|          left|             medium|             medium|      90|       70|              60|           85|     75|       77|   87|                78|          81|          79|          59|          60|     72|       76|     70|        71|     59|     48|      61|        71|        60|           47|         78|    83|       90|     26|             43|            51|       10|          5|         7|             5|          5|  81.44444444444444|           2|              2|         0|\n",
      "|               244|       82|         right|               null|                 _0|      72|       31|              75|           71|     55|       44|   56|                33|          61|          64|          64|          70|     51|       72|     67|        47|     70|     65|      74|        28|        87|           85|         45|    70|       32|     78|             81|            83|       12|          9|         5|             6|         11|  78.33333333333333|           0|           null|         1|\n",
      "|               245|       78|         right|               null|                 _0|      58|       41|              64|           78|   null|       38| null|                37|          65|          72|          52|          57|   null|       65|   null|        57|   null|     66|      64|        48|        87|           82|         83|  null|       74|     73|             76|          null|        9|         21|        65|            21|         21|               72.0|           0|           null|         1|\n",
      "|               246|       80|         right|             medium|             medium|      83|       65|              72|           89|     85|       75|   74|                67|          90|          87|          53|          53|     68|       82|     82|        88|     64|     34|      63|        84|        87|           79|         83|    91|       77|     58|             49|            36|        7|         12|         5|            15|          8|  82.46153846153847|           2|              2|         1|\n",
      "|               249|       74|         right|             medium|               high|      73|       36|              69|           74|     63|       53|   45|                41|          72|          72|          52|          51|     65|       83|     70|        77|     71|     61|      76|        64|        78|           83|         48|    57|       69|     77|             75|            72|       10|          7|        12|             5|          7|             75.625|           2|              3|         1|\n",
      "+------------------+---------+--------------+-------------------+-------------------+--------+---------+----------------+-------------+-------+---------+-----+------------------+------------+------------+------------+------------+-------+---------+-------+----------+-------+-------+--------+----------+----------+-------------+-----------+------+---------+-------+---------------+--------------+---------+-----------+----------+--------------+-----------+-------------------+------------+---------------+----------+\n",
      "only showing top 20 rows\n",
      "\n"
     ]
    }
   ],
   "source": [
    "#players.show()"
   ]
  },
  {
   "cell_type": "code",
   "execution_count": null,
   "id": "8eb6ea5f-ba19-4f5f-bf31-2dff9dca69e7",
   "metadata": {},
   "outputs": [],
   "source": []
  }
 ],
 "metadata": {
  "kernelspec": {
   "display_name": "Python 3",
   "language": "python",
   "name": "python3"
  },
  "language_info": {
   "codemirror_mode": {
    "name": "ipython",
    "version": 3
   },
   "file_extension": ".py",
   "mimetype": "text/x-python",
   "name": "python",
   "nbconvert_exporter": "python",
   "pygments_lexer": "ipython3",
   "version": "3.8.2"
  }
 },
 "nbformat": 4,
 "nbformat_minor": 5
}
